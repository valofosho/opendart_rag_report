{
 "cells": [
  {
   "cell_type": "markdown",
   "id": "2ecf153d",
   "metadata": {},
   "source": [
    "###  OPEN DART API 활용"
   ]
  },
  {
   "cell_type": "code",
   "execution_count": 29,
   "id": "7d73247c",
   "metadata": {},
   "outputs": [],
   "source": [
    "from pprint import pprint\n",
    "import os\n",
    "import zipfile\n",
    "import io\n",
    "import pandas as pd\n",
    "import requests\n",
    "import xml.etree.ElementTree as ET\n",
    "import json\n",
    "from lxml import etree"
   ]
  },
  {
   "cell_type": "code",
   "execution_count": null,
   "id": "55e9d5e9",
   "metadata": {},
   "outputs": [],
   "source": [
    "# API KEY 불러오기\n",
    "with open('./api_keys.json', 'r') as file:\n",
    "    data = json.load(file)\n",
    "dart_key = data[0].get('opendart_api_key')"
   ]
  },
  {
   "cell_type": "code",
   "execution_count": 28,
   "id": "a1489016",
   "metadata": {},
   "outputs": [
    {
     "data": {
      "text/plain": [
       "'229e698290d7d6fbfca8cfa08a860a1d339cae25'"
      ]
     },
     "execution_count": 28,
     "metadata": {},
     "output_type": "execute_result"
    }
   ],
   "source": [
    "dart_key"
   ]
  },
  {
   "cell_type": "code",
   "execution_count": 9,
   "id": "28997692",
   "metadata": {},
   "outputs": [],
   "source": [
    "# CORPCODE.XML 다운로드\n",
    "PATH = f\"https://opendart.fss.or.kr/api/corpCode.xml?crtfc_key={dart_key}\"\n",
    "response = requests.get(PATH)\n",
    "if response.status_code == 200:\n",
    "    zipfile.ZipFile(io.BytesIO(response.content)).extractall('./')\n"
   ]
  },
  {
   "cell_type": "code",
   "execution_count": 22,
   "id": "102e263d",
   "metadata": {},
   "outputs": [
    {
     "data": {
      "text/html": [
       "<div>\n",
       "<style scoped>\n",
       "    .dataframe tbody tr th:only-of-type {\n",
       "        vertical-align: middle;\n",
       "    }\n",
       "\n",
       "    .dataframe tbody tr th {\n",
       "        vertical-align: top;\n",
       "    }\n",
       "\n",
       "    .dataframe thead th {\n",
       "        text-align: right;\n",
       "    }\n",
       "</style>\n",
       "<table border=\"1\" class=\"dataframe\">\n",
       "  <thead>\n",
       "    <tr style=\"text-align: right;\">\n",
       "      <th></th>\n",
       "      <th>corp_code</th>\n",
       "      <th>corp_name</th>\n",
       "      <th>corp_eng_name</th>\n",
       "      <th>stock_code</th>\n",
       "      <th>modify_date</th>\n",
       "    </tr>\n",
       "  </thead>\n",
       "  <tbody>\n",
       "    <tr>\n",
       "      <th>0</th>\n",
       "      <td>00434003</td>\n",
       "      <td>다코</td>\n",
       "      <td>Daco corporation</td>\n",
       "      <td></td>\n",
       "      <td>20170630</td>\n",
       "    </tr>\n",
       "    <tr>\n",
       "      <th>1</th>\n",
       "      <td>00430964</td>\n",
       "      <td>굿앤엘에스</td>\n",
       "      <td>Good &amp; LS Co.,Ltd.</td>\n",
       "      <td></td>\n",
       "      <td>20170630</td>\n",
       "    </tr>\n",
       "    <tr>\n",
       "      <th>2</th>\n",
       "      <td>00388953</td>\n",
       "      <td>크레디피아제이십오차유동화전문회사</td>\n",
       "      <td>Credipia 25th Asset Securitization Specialty L...</td>\n",
       "      <td></td>\n",
       "      <td>20170630</td>\n",
       "    </tr>\n",
       "    <tr>\n",
       "      <th>3</th>\n",
       "      <td>00179984</td>\n",
       "      <td>연방건설산업</td>\n",
       "      <td>youn bao</td>\n",
       "      <td></td>\n",
       "      <td>20170630</td>\n",
       "    </tr>\n",
       "    <tr>\n",
       "      <th>4</th>\n",
       "      <td>00420143</td>\n",
       "      <td>브룩스피알아이오토메이션잉크</td>\n",
       "      <td>BROOKS-PRI Automation, Inc.</td>\n",
       "      <td></td>\n",
       "      <td>20170630</td>\n",
       "    </tr>\n",
       "    <tr>\n",
       "      <th>...</th>\n",
       "      <td>...</td>\n",
       "      <td>...</td>\n",
       "      <td>...</td>\n",
       "      <td>...</td>\n",
       "      <td>...</td>\n",
       "    </tr>\n",
       "    <tr>\n",
       "      <th>113083</th>\n",
       "      <td>01913987</td>\n",
       "      <td>지엠에프십사호선박투자회사</td>\n",
       "      <td>GMF NO.14 Ship Investment Company</td>\n",
       "      <td></td>\n",
       "      <td>20250423</td>\n",
       "    </tr>\n",
       "    <tr>\n",
       "      <th>113084</th>\n",
       "      <td>01913996</td>\n",
       "      <td>지엠에프십오호선박투자회사</td>\n",
       "      <td>GMF NO.15 Ship Investment Company</td>\n",
       "      <td></td>\n",
       "      <td>20250423</td>\n",
       "    </tr>\n",
       "    <tr>\n",
       "      <th>113085</th>\n",
       "      <td>01914001</td>\n",
       "      <td>지엠에프십육호선박투자회사</td>\n",
       "      <td>GMF NO.16 Ship Investment Company</td>\n",
       "      <td></td>\n",
       "      <td>20250423</td>\n",
       "    </tr>\n",
       "    <tr>\n",
       "      <th>113086</th>\n",
       "      <td>01913127</td>\n",
       "      <td>디지탈테크</td>\n",
       "      <td>digitalltek co.,ltd.</td>\n",
       "      <td></td>\n",
       "      <td>20250423</td>\n",
       "    </tr>\n",
       "    <tr>\n",
       "      <th>113087</th>\n",
       "      <td>01913491</td>\n",
       "      <td>피유란</td>\n",
       "      <td>PYURAN Co., Ltd.</td>\n",
       "      <td></td>\n",
       "      <td>20250423</td>\n",
       "    </tr>\n",
       "  </tbody>\n",
       "</table>\n",
       "<p>113088 rows × 5 columns</p>\n",
       "</div>"
      ],
      "text/plain": [
       "       corp_code          corp_name  \\\n",
       "0       00434003                 다코   \n",
       "1       00430964              굿앤엘에스   \n",
       "2       00388953  크레디피아제이십오차유동화전문회사   \n",
       "3       00179984             연방건설산업   \n",
       "4       00420143     브룩스피알아이오토메이션잉크   \n",
       "...          ...                ...   \n",
       "113083  01913987      지엠에프십사호선박투자회사   \n",
       "113084  01913996      지엠에프십오호선박투자회사   \n",
       "113085  01914001      지엠에프십육호선박투자회사   \n",
       "113086  01913127              디지탈테크   \n",
       "113087  01913491                피유란   \n",
       "\n",
       "                                            corp_eng_name stock_code  \\\n",
       "0                                        Daco corporation              \n",
       "1                                      Good & LS Co.,Ltd.              \n",
       "2       Credipia 25th Asset Securitization Specialty L...              \n",
       "3                                                youn bao              \n",
       "4                             BROOKS-PRI Automation, Inc.              \n",
       "...                                                   ...        ...   \n",
       "113083                  GMF NO.14 Ship Investment Company              \n",
       "113084                  GMF NO.15 Ship Investment Company              \n",
       "113085                  GMF NO.16 Ship Investment Company              \n",
       "113086                               digitalltek co.,ltd.              \n",
       "113087                                   PYURAN Co., Ltd.              \n",
       "\n",
       "       modify_date  \n",
       "0         20170630  \n",
       "1         20170630  \n",
       "2         20170630  \n",
       "3         20170630  \n",
       "4         20170630  \n",
       "...            ...  \n",
       "113083    20250423  \n",
       "113084    20250423  \n",
       "113085    20250423  \n",
       "113086    20250423  \n",
       "113087    20250423  \n",
       "\n",
       "[113088 rows x 5 columns]"
      ]
     },
     "execution_count": 22,
     "metadata": {},
     "output_type": "execute_result"
    }
   ],
   "source": [
    "# CORPCODE.xml을 기반으로 한 pd.DataFrame 만들기\n",
    "tree = ET.parse('./CORPCODE.xml')\n",
    "root = tree.getroot()\n",
    "corp_items = []\n",
    "for corp_data in root.iter('list'):\n",
    "    item = {\n",
    "        \"corp_code\": (corp_data.findtext('corp_code') or '').strip(),\n",
    "        \"corp_name\": (corp_data.findtext('corp_name') or '').strip(),\n",
    "        \"corp_eng_name\": (corp_data.findtext('corp_eng_name') or '').strip(),\n",
    "        \"stock_code\": (corp_data.findtext('stock_code') or '').strip(),\n",
    "        \"modify_date\": (corp_data.findtext('modify_date') or '').strip(),\n",
    "    }\n",
    "    corp_items.append(item)\n",
    "\n",
    "df = pd.DataFrame(corp_items)\n",
    "df"
   ]
  },
  {
   "cell_type": "markdown",
   "id": "dce0c0ed",
   "metadata": {},
   "source": [
    "### 활용할 API 내 보고서 양식 목록\n",
    "1. 정기 보고서\n",
    "2. 분기 보고서\n"
   ]
  },
  {
   "cell_type": "code",
   "execution_count": 24,
   "id": "f7a7fe7f",
   "metadata": {},
   "outputs": [],
   "source": [
    "BASE_URL = \"https://opendart.fss.or.kr/api\""
   ]
  },
  {
   "cell_type": "code",
   "execution_count": 25,
   "id": "fac5c844",
   "metadata": {},
   "outputs": [
    {
     "data": {
      "text/plain": [
       "200"
      ]
     },
     "execution_count": 25,
     "metadata": {},
     "output_type": "execute_result"
    }
   ],
   "source": [
    "# 공시서류원본파일 확인용\n",
    "url = BASE_URL+'/document.xml'\n",
    "payload = {'crtfc_key': dart_key, 'rcept_no':20190401004781}\n",
    "response = requests.get(url, params=payload)\n",
    "response.status_code"
   ]
  },
  {
   "cell_type": "code",
   "execution_count": 27,
   "id": "eb12b826",
   "metadata": {},
   "outputs": [],
   "source": [
    "zipfile.ZipFile(io.BytesIO(response.content)).extractall('./corp_reports/')"
   ]
  },
  {
   "cell_type": "code",
   "execution_count": 39,
   "id": "b7097645",
   "metadata": {},
   "outputs": [],
   "source": [
    "def fetch_documents(api_key, rcp_no):\n",
    "    url = BASE_URL+'/document.xml'\n",
    "    params = {'crtfc_key': api_key, 'rcept_no':rcp_no}\n",
    "    response = requests.get(url, params=params)\n",
    "    if response.status_code != 200:\n",
    "        print('Bad Response')\n",
    "        raise Exception(f'API 요청 실패: 상태코드 {response.status_code}')\n",
    "    else:\n",
    "        return response.content\n",
    "    \n",
    "def extract_report(zip_content, rcp_no):\n",
    "    try:\n",
    "        with zipfile.ZipFile(io.BytesIO(zip_content)) as zf:\n",
    "            audit_fnames = [info.filename for info in zf.infolist() if f\"{rcp_no}_00760.xml\" in info.filename]\n",
    "            if not audit_fnames:\n",
    "                raise ValueError(\"감사보고서 파일을 찾을 수 없습니다.\")\n",
    "            xml_data = zf.read(audit_fnames[0])\n",
    "            return xml_data\n",
    "    except  zipfile.BadZipFile:\n",
    "        raise ValueError(\"ZIP파일이 손상되었거나 유효하지 않습니다.\")\n",
    "    \n",
    "def parse_html_from_xml(xml_data):\n",
    "    try:\n",
    "        xml_text = xml_data.decode('euc-kr')\n",
    "    except UnicodeDecodeError:\n",
    "        xml_text = xml_data.decode('utf-8')\n",
    "    parser = etree.HTMLParser()\n",
    "    root = etree.fromstring(xml_text.encode('utf-8'), parser)\n",
    "    return root\n",
    "\n",
    "api_key = dart_key\n",
    "rcp_no = '20190401004781'\n",
    "\n",
    "zip_content = fetch_documents(api_key, rcp_no)\n",
    "xml_data = extract_report(zip_content, rcp_no)\n",
    "root = parse_html_from_xml(xml_data)\n"
   ]
  },
  {
   "cell_type": "code",
   "execution_count": 40,
   "id": "e1e60232",
   "metadata": {},
   "outputs": [],
   "source": [
    "root.text"
   ]
  },
  {
   "cell_type": "markdown",
   "id": "328331b4",
   "metadata": {},
   "source": [
    "### 사업보고서 주요정보 추출"
   ]
  },
  {
   "cell_type": "code",
   "execution_count": null,
   "id": "7c3f5e16",
   "metadata": {},
   "outputs": [
    {
     "ename": "AttributeError",
     "evalue": "'tuple' object has no attribute 'decode'",
     "output_type": "error",
     "traceback": [
      "\u001b[31m---------------------------------------------------------------------------\u001b[39m",
      "\u001b[31mAttributeError\u001b[39m                            Traceback (most recent call last)",
      "\u001b[36mCell\u001b[39m\u001b[36m \u001b[39m\u001b[32mIn[42]\u001b[39m\u001b[32m, line 3\u001b[39m\n\u001b[32m      1\u001b[39m zip_content = fetch_documents(api_key, rcp_no)\n\u001b[32m      2\u001b[39m xml_data = extract_report(zip_content, rcp_no)\n\u001b[32m----> \u001b[39m\u001b[32m3\u001b[39m root = \u001b[43mparse_html_from_xml\u001b[49m\u001b[43m(\u001b[49m\u001b[43mxml_data\u001b[49m\u001b[43m)\u001b[49m\n",
      "\u001b[36mCell\u001b[39m\u001b[36m \u001b[39m\u001b[32mIn[39]\u001b[39m\u001b[32m, line 24\u001b[39m, in \u001b[36mparse_html_from_xml\u001b[39m\u001b[34m(xml_data)\u001b[39m\n\u001b[32m     22\u001b[39m \u001b[38;5;28;01mdef\u001b[39;00m\u001b[38;5;250m \u001b[39m\u001b[34mparse_html_from_xml\u001b[39m(xml_data):\n\u001b[32m     23\u001b[39m     \u001b[38;5;28;01mtry\u001b[39;00m:\n\u001b[32m---> \u001b[39m\u001b[32m24\u001b[39m         xml_text = \u001b[43mxml_data\u001b[49m\u001b[43m.\u001b[49m\u001b[43mdecode\u001b[49m(\u001b[33m'\u001b[39m\u001b[33meuc-kr\u001b[39m\u001b[33m'\u001b[39m)\n\u001b[32m     25\u001b[39m     \u001b[38;5;28;01mexcept\u001b[39;00m \u001b[38;5;167;01mUnicodeDecodeError\u001b[39;00m:\n\u001b[32m     26\u001b[39m         xml_text = xml_data.decode(\u001b[33m'\u001b[39m\u001b[33mutf-8\u001b[39m\u001b[33m'\u001b[39m)\n",
      "\u001b[31mAttributeError\u001b[39m: 'tuple' object has no attribute 'decode'"
     ]
    }
   ],
   "source": [
    "# "
   ]
  }
 ],
 "metadata": {
  "kernelspec": {
   "display_name": "venv",
   "language": "python",
   "name": "python3"
  },
  "language_info": {
   "codemirror_mode": {
    "name": "ipython",
    "version": 3
   },
   "file_extension": ".py",
   "mimetype": "text/x-python",
   "name": "python",
   "nbconvert_exporter": "python",
   "pygments_lexer": "ipython3",
   "version": "3.13.6"
  }
 },
 "nbformat": 4,
 "nbformat_minor": 5
}
